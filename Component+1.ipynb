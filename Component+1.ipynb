{
 "cells": [
  {
   "cell_type": "markdown",
   "metadata": {},
   "source": [
    "# Component 1 - Transportable Array"
   ]
  },
  {
   "cell_type": "markdown",
   "metadata": {},
   "source": [
    "## Import Modules and Data"
   ]
  },
  {
   "cell_type": "code",
   "execution_count": 2,
   "metadata": {
    "collapsed": true
   },
   "outputs": [],
   "source": [
    "%matplotlib inline"
   ]
  },
  {
   "cell_type": "code",
   "execution_count": 18,
   "metadata": {
    "collapsed": true
   },
   "outputs": [],
   "source": [
    "from haversine import haversine\n",
    "import pandas as pd\n",
    "import matplotlib.pyplot as plt\n",
    "import numpy as np\n",
    "from mpl_toolkits.basemap import Basemap\n",
    "import ipywidgets\n",
    "import matplotlib.gridspec as gridspec\n",
    "import cartopy\n",
    "from matplotlib import animation\n",
    "from IPython.display import Audio\n",
    "import seaborn as sns"
   ]
  },
  {
   "cell_type": "markdown",
   "metadata": {},
   "source": [
    "## Load Transportable Array Data"
   ]
  },
  {
   "cell_type": "code",
   "execution_count": 19,
   "metadata": {
    "collapsed": true
   },
   "outputs": [],
   "source": [
    "array_vals = pd.read_csv(\"data-readonly/transportable_array/data_tohoku_norm_transpose.csv\", header=None)"
   ]
  },
  {
   "cell_type": "code",
   "execution_count": 5,
   "metadata": {
    "collapsed": true
   },
   "outputs": [],
   "source": [
    "## This code comes from Prof Turk. Translates our 4 hour time period into the time of day between 2:46pm and 6:46pm. \n",
    "v = pd.date_range(\"2:46PM\", \"6:46PM\", freq=\"1s\")\n",
    "v -= v[0]\n",
    "array_vals[\"time\"] = v\n",
    "array_vals.set_index(\"time\", inplace=True)"
   ]
  },
  {
   "cell_type": "code",
   "execution_count": 6,
   "metadata": {
    "collapsed": true
   },
   "outputs": [],
   "source": [
    "date_range = pd.date_range(\"2:46PM\", \"6:46PM\", freq=\"1s\")"
   ]
  },
  {
   "cell_type": "code",
   "execution_count": 21,
   "metadata": {},
   "outputs": [
    {
     "data": {
      "text/html": [
       "<div>\n",
       "<style scoped>\n",
       "    .dataframe tbody tr th:only-of-type {\n",
       "        vertical-align: middle;\n",
       "    }\n",
       "\n",
       "    .dataframe tbody tr th {\n",
       "        vertical-align: top;\n",
       "    }\n",
       "\n",
       "    .dataframe thead th {\n",
       "        text-align: right;\n",
       "    }\n",
       "</style>\n",
       "<table border=\"1\" class=\"dataframe\">\n",
       "  <thead>\n",
       "    <tr style=\"text-align: right;\">\n",
       "      <th></th>\n",
       "      <th>0</th>\n",
       "      <th>1</th>\n",
       "      <th>2</th>\n",
       "      <th>3</th>\n",
       "      <th>4</th>\n",
       "      <th>5</th>\n",
       "      <th>6</th>\n",
       "      <th>7</th>\n",
       "      <th>8</th>\n",
       "      <th>9</th>\n",
       "      <th>...</th>\n",
       "      <th>428</th>\n",
       "      <th>429</th>\n",
       "      <th>430</th>\n",
       "      <th>431</th>\n",
       "      <th>432</th>\n",
       "      <th>433</th>\n",
       "      <th>434</th>\n",
       "      <th>435</th>\n",
       "      <th>436</th>\n",
       "      <th>437</th>\n",
       "    </tr>\n",
       "  </thead>\n",
       "  <tbody>\n",
       "    <tr>\n",
       "      <th>longitude</th>\n",
       "      <td>-98.683</td>\n",
       "      <td>-98.102</td>\n",
       "      <td>-98.068</td>\n",
       "      <td>-117.110</td>\n",
       "      <td>-107.790</td>\n",
       "      <td>-98.916</td>\n",
       "      <td>-98.079</td>\n",
       "      <td>-97.410</td>\n",
       "      <td>-96.530</td>\n",
       "      <td>-95.756</td>\n",
       "      <td>...</td>\n",
       "      <td>-93.280</td>\n",
       "      <td>-98.765</td>\n",
       "      <td>-97.916</td>\n",
       "      <td>-97.253</td>\n",
       "      <td>-96.434</td>\n",
       "      <td>-95.623</td>\n",
       "      <td>-94.985</td>\n",
       "      <td>-94.182</td>\n",
       "      <td>-93.400</td>\n",
       "      <td>-92.803</td>\n",
       "    </tr>\n",
       "    <tr>\n",
       "      <th>latitude</th>\n",
       "      <td>27.065</td>\n",
       "      <td>26.938</td>\n",
       "      <td>26.463</td>\n",
       "      <td>32.889</td>\n",
       "      <td>32.532</td>\n",
       "      <td>32.608</td>\n",
       "      <td>32.573</td>\n",
       "      <td>32.557</td>\n",
       "      <td>32.475</td>\n",
       "      <td>32.597</td>\n",
       "      <td>...</td>\n",
       "      <td>34.012</td>\n",
       "      <td>33.286</td>\n",
       "      <td>33.371</td>\n",
       "      <td>33.331</td>\n",
       "      <td>33.270</td>\n",
       "      <td>33.198</td>\n",
       "      <td>33.260</td>\n",
       "      <td>33.242</td>\n",
       "      <td>33.258</td>\n",
       "      <td>33.258</td>\n",
       "    </tr>\n",
       "  </tbody>\n",
       "</table>\n",
       "<p>2 rows × 438 columns</p>\n",
       "</div>"
      ],
      "text/plain": [
       "              0       1       2        3        4       5       6       7    \\\n",
       "longitude -98.683 -98.102 -98.068 -117.110 -107.790 -98.916 -98.079 -97.410   \n",
       "latitude   27.065  26.938  26.463   32.889   32.532  32.608  32.573  32.557   \n",
       "\n",
       "              8       9     ...       428     429     430     431     432  \\\n",
       "longitude -96.530 -95.756   ...   -93.280 -98.765 -97.916 -97.253 -96.434   \n",
       "latitude   32.475  32.597   ...    34.012  33.286  33.371  33.331  33.270   \n",
       "\n",
       "              433     434     435     436     437  \n",
       "longitude -95.623 -94.985 -94.182 -93.400 -92.803  \n",
       "latitude   33.198  33.260  33.242  33.258  33.258  \n",
       "\n",
       "[2 rows x 438 columns]"
      ]
     },
     "execution_count": 21,
     "metadata": {},
     "output_type": "execute_result"
    }
   ],
   "source": [
    "# Now bringing in longitude and latitudes of stations\n",
    "locations = pd.read_csv(\"/srv/nbgrader/data/transportable_array/location.txt\",\n",
    "                        delimiter=\"\\t\", names =[\"longitude\", \"latitude\", \"a\", \"b\"])\n",
    "del locations[\"a\"], locations[\"b\"]\n",
    "locations = locations.T\n",
    "locations.head()"
   ]
  },
  {
   "cell_type": "markdown",
   "metadata": {},
   "source": [
    "## Stations DataFrame"
   ]
  },
  {
   "cell_type": "code",
   "execution_count": 20,
   "metadata": {},
   "outputs": [
    {
     "data": {
      "text/html": [
       "<div>\n",
       "<style scoped>\n",
       "    .dataframe tbody tr th:only-of-type {\n",
       "        vertical-align: middle;\n",
       "    }\n",
       "\n",
       "    .dataframe tbody tr th {\n",
       "        vertical-align: top;\n",
       "    }\n",
       "\n",
       "    .dataframe thead th {\n",
       "        text-align: right;\n",
       "    }\n",
       "</style>\n",
       "<table border=\"1\" class=\"dataframe\">\n",
       "  <thead>\n",
       "    <tr style=\"text-align: right;\">\n",
       "      <th></th>\n",
       "      <th>0</th>\n",
       "      <th>1</th>\n",
       "      <th>2</th>\n",
       "      <th>3</th>\n",
       "      <th>4</th>\n",
       "      <th>5</th>\n",
       "      <th>6</th>\n",
       "      <th>7</th>\n",
       "      <th>8</th>\n",
       "      <th>9</th>\n",
       "      <th>...</th>\n",
       "      <th>428</th>\n",
       "      <th>429</th>\n",
       "      <th>430</th>\n",
       "      <th>431</th>\n",
       "      <th>432</th>\n",
       "      <th>433</th>\n",
       "      <th>434</th>\n",
       "      <th>435</th>\n",
       "      <th>436</th>\n",
       "      <th>437</th>\n",
       "    </tr>\n",
       "  </thead>\n",
       "  <tbody>\n",
       "    <tr>\n",
       "      <th>longitude</th>\n",
       "      <td>-98.683000</td>\n",
       "      <td>-98.102000</td>\n",
       "      <td>-98.068000</td>\n",
       "      <td>-117.110000</td>\n",
       "      <td>-107.790000</td>\n",
       "      <td>-98.916000</td>\n",
       "      <td>-98.079000</td>\n",
       "      <td>-97.410000</td>\n",
       "      <td>-96.530000</td>\n",
       "      <td>-95.756000</td>\n",
       "      <td>...</td>\n",
       "      <td>-93.280000</td>\n",
       "      <td>-98.765000</td>\n",
       "      <td>-97.916000</td>\n",
       "      <td>-97.253000</td>\n",
       "      <td>-96.434000</td>\n",
       "      <td>-95.623000</td>\n",
       "      <td>-94.985000</td>\n",
       "      <td>-94.182000</td>\n",
       "      <td>-93.400000</td>\n",
       "      <td>-92.803000</td>\n",
       "    </tr>\n",
       "    <tr>\n",
       "      <th>latitude</th>\n",
       "      <td>27.065000</td>\n",
       "      <td>26.938000</td>\n",
       "      <td>26.463000</td>\n",
       "      <td>32.889000</td>\n",
       "      <td>32.532000</td>\n",
       "      <td>32.608000</td>\n",
       "      <td>32.573000</td>\n",
       "      <td>32.557000</td>\n",
       "      <td>32.475000</td>\n",
       "      <td>32.597000</td>\n",
       "      <td>...</td>\n",
       "      <td>34.012000</td>\n",
       "      <td>33.286000</td>\n",
       "      <td>33.371000</td>\n",
       "      <td>33.331000</td>\n",
       "      <td>33.270000</td>\n",
       "      <td>33.198000</td>\n",
       "      <td>33.260000</td>\n",
       "      <td>33.242000</td>\n",
       "      <td>33.258000</td>\n",
       "      <td>33.258000</td>\n",
       "    </tr>\n",
       "    <tr>\n",
       "      <th>0</th>\n",
       "      <td>-0.000255</td>\n",
       "      <td>-0.000068</td>\n",
       "      <td>0.000406</td>\n",
       "      <td>-0.000275</td>\n",
       "      <td>0.000070</td>\n",
       "      <td>0.000041</td>\n",
       "      <td>-0.000070</td>\n",
       "      <td>-0.000040</td>\n",
       "      <td>0.000152</td>\n",
       "      <td>0.000039</td>\n",
       "      <td>...</td>\n",
       "      <td>-0.000156</td>\n",
       "      <td>0.000025</td>\n",
       "      <td>0.000064</td>\n",
       "      <td>0.000047</td>\n",
       "      <td>0.000030</td>\n",
       "      <td>0.000080</td>\n",
       "      <td>0.000051</td>\n",
       "      <td>0.000156</td>\n",
       "      <td>0.000282</td>\n",
       "      <td>-0.000024</td>\n",
       "    </tr>\n",
       "    <tr>\n",
       "      <th>1</th>\n",
       "      <td>-0.000238</td>\n",
       "      <td>-0.000085</td>\n",
       "      <td>0.000411</td>\n",
       "      <td>-0.000293</td>\n",
       "      <td>0.000085</td>\n",
       "      <td>0.000058</td>\n",
       "      <td>-0.000027</td>\n",
       "      <td>-0.000042</td>\n",
       "      <td>0.000141</td>\n",
       "      <td>0.000151</td>\n",
       "      <td>...</td>\n",
       "      <td>-0.000118</td>\n",
       "      <td>0.000127</td>\n",
       "      <td>0.000029</td>\n",
       "      <td>0.000056</td>\n",
       "      <td>0.000093</td>\n",
       "      <td>0.000016</td>\n",
       "      <td>0.000016</td>\n",
       "      <td>0.000056</td>\n",
       "      <td>0.000280</td>\n",
       "      <td>-0.000036</td>\n",
       "    </tr>\n",
       "    <tr>\n",
       "      <th>2</th>\n",
       "      <td>-0.000220</td>\n",
       "      <td>-0.000102</td>\n",
       "      <td>0.000413</td>\n",
       "      <td>-0.000308</td>\n",
       "      <td>0.000099</td>\n",
       "      <td>0.000073</td>\n",
       "      <td>0.000015</td>\n",
       "      <td>-0.000042</td>\n",
       "      <td>0.000129</td>\n",
       "      <td>0.000259</td>\n",
       "      <td>...</td>\n",
       "      <td>-0.000080</td>\n",
       "      <td>0.000225</td>\n",
       "      <td>-0.000005</td>\n",
       "      <td>0.000065</td>\n",
       "      <td>0.000153</td>\n",
       "      <td>-0.000046</td>\n",
       "      <td>-0.000019</td>\n",
       "      <td>-0.000042</td>\n",
       "      <td>0.000275</td>\n",
       "      <td>-0.000049</td>\n",
       "    </tr>\n",
       "  </tbody>\n",
       "</table>\n",
       "<p>5 rows × 438 columns</p>\n",
       "</div>"
      ],
      "text/plain": [
       "                 0          1          2           3           4          5    \\\n",
       "longitude -98.683000 -98.102000 -98.068000 -117.110000 -107.790000 -98.916000   \n",
       "latitude   27.065000  26.938000  26.463000   32.889000   32.532000  32.608000   \n",
       "0          -0.000255  -0.000068   0.000406   -0.000275    0.000070   0.000041   \n",
       "1          -0.000238  -0.000085   0.000411   -0.000293    0.000085   0.000058   \n",
       "2          -0.000220  -0.000102   0.000413   -0.000308    0.000099   0.000073   \n",
       "\n",
       "                 6          7          8          9      ...            428  \\\n",
       "longitude -98.079000 -97.410000 -96.530000 -95.756000    ...     -93.280000   \n",
       "latitude   32.573000  32.557000  32.475000  32.597000    ...      34.012000   \n",
       "0          -0.000070  -0.000040   0.000152   0.000039    ...      -0.000156   \n",
       "1          -0.000027  -0.000042   0.000141   0.000151    ...      -0.000118   \n",
       "2           0.000015  -0.000042   0.000129   0.000259    ...      -0.000080   \n",
       "\n",
       "                 429        430        431        432        433        434  \\\n",
       "longitude -98.765000 -97.916000 -97.253000 -96.434000 -95.623000 -94.985000   \n",
       "latitude   33.286000  33.371000  33.331000  33.270000  33.198000  33.260000   \n",
       "0           0.000025   0.000064   0.000047   0.000030   0.000080   0.000051   \n",
       "1           0.000127   0.000029   0.000056   0.000093   0.000016   0.000016   \n",
       "2           0.000225  -0.000005   0.000065   0.000153  -0.000046  -0.000019   \n",
       "\n",
       "                 435        436        437  \n",
       "longitude -94.182000 -93.400000 -92.803000  \n",
       "latitude   33.242000  33.258000  33.258000  \n",
       "0           0.000156   0.000282  -0.000024  \n",
       "1           0.000056   0.000280  -0.000036  \n",
       "2          -0.000042   0.000275  -0.000049  \n",
       "\n",
       "[5 rows x 438 columns]"
      ]
     },
     "execution_count": 20,
     "metadata": {},
     "output_type": "execute_result"
    }
   ],
   "source": [
    "stations = pd.concat([locations, array_vals]) \n",
    "stations.head()"
   ]
  },
  {
   "cell_type": "markdown",
   "metadata": {},
   "source": [
    "## Calculating Distances with Haversine"
   ]
  },
  {
   "cell_type": "code",
   "execution_count": 22,
   "metadata": {
    "collapsed": true
   },
   "outputs": [],
   "source": [
    "# longitude and latitude of Tohoku quake c/o Google \n",
    "tohoku_quake = (38.3, 142.4)\n",
    "station1 = stations[3][1], stations[3][0] # latitude then longitude\n",
    "haversine(tohoku_quake, station1, miles = True)\n",
    "\n",
    "dists = [] # empty list for distances\n",
    "for s in stations: #iterate over stations dataframe\n",
    "    station = stations[s][1], stations[s][0] #pull coordinates\n",
    "    dist = haversine(tohoku_quake, station, miles = True) # calculate distances using haversine set to miles\n",
    "    dists.append(dist) # add to distances list\n",
    "    \n",
    "distances = pd.DataFrame(dists) # convert to Dataframe\n",
    "distances.columns = ['dist'] # rename\n",
    "distances.sort_values(by = 'dist', inplace = True, ascending = True) # sort"
   ]
  },
  {
   "cell_type": "markdown",
   "metadata": {},
   "source": [
    "## Dataframe with Stations, Distances, Coordinates, Time & Reading Values"
   ]
  },
  {
   "cell_type": "code",
   "execution_count": 44,
   "metadata": {},
   "outputs": [
    {
     "data": {
      "text/html": [
       "<div>\n",
       "<style scoped>\n",
       "    .dataframe tbody tr th:only-of-type {\n",
       "        vertical-align: middle;\n",
       "    }\n",
       "\n",
       "    .dataframe tbody tr th {\n",
       "        vertical-align: top;\n",
       "    }\n",
       "\n",
       "    .dataframe thead th {\n",
       "        text-align: right;\n",
       "    }\n",
       "</style>\n",
       "<table border=\"1\" class=\"dataframe\">\n",
       "  <thead>\n",
       "    <tr style=\"text-align: right;\">\n",
       "      <th></th>\n",
       "      <th>index</th>\n",
       "      <th>dist</th>\n",
       "      <th>longitude</th>\n",
       "      <th>latitude</th>\n",
       "      <th>0</th>\n",
       "      <th>1</th>\n",
       "      <th>2</th>\n",
       "      <th>3</th>\n",
       "      <th>4</th>\n",
       "      <th>5</th>\n",
       "      <th>...</th>\n",
       "      <th>14391</th>\n",
       "      <th>14392</th>\n",
       "      <th>14393</th>\n",
       "      <th>14394</th>\n",
       "      <th>14395</th>\n",
       "      <th>14396</th>\n",
       "      <th>14397</th>\n",
       "      <th>14398</th>\n",
       "      <th>14399</th>\n",
       "      <th>14400</th>\n",
       "    </tr>\n",
       "  </thead>\n",
       "  <tbody>\n",
       "    <tr>\n",
       "      <th>0</th>\n",
       "      <td>123</td>\n",
       "      <td>8874.083699</td>\n",
       "      <td>-122.770</td>\n",
       "      <td>47.179</td>\n",
       "      <td>0.006577</td>\n",
       "      <td>0.006650</td>\n",
       "      <td>0.006660</td>\n",
       "      <td>0.006616</td>\n",
       "      <td>0.006528</td>\n",
       "      <td>0.006404</td>\n",
       "      <td>...</td>\n",
       "      <td>-0.016533</td>\n",
       "      <td>-0.016002</td>\n",
       "      <td>-0.015280</td>\n",
       "      <td>-0.014373</td>\n",
       "      <td>-0.013294</td>\n",
       "      <td>-0.012066</td>\n",
       "      <td>-0.010723</td>\n",
       "      <td>-0.009306</td>\n",
       "      <td>-0.007864</td>\n",
       "      <td>0.000000</td>\n",
       "    </tr>\n",
       "    <tr>\n",
       "      <th>1</th>\n",
       "      <td>193</td>\n",
       "      <td>8874.431614</td>\n",
       "      <td>-123.850</td>\n",
       "      <td>44.106</td>\n",
       "      <td>0.002861</td>\n",
       "      <td>0.003157</td>\n",
       "      <td>0.003419</td>\n",
       "      <td>0.003642</td>\n",
       "      <td>0.003827</td>\n",
       "      <td>0.003970</td>\n",
       "      <td>...</td>\n",
       "      <td>-0.005995</td>\n",
       "      <td>-0.005475</td>\n",
       "      <td>-0.004947</td>\n",
       "      <td>-0.004422</td>\n",
       "      <td>-0.003909</td>\n",
       "      <td>-0.003413</td>\n",
       "      <td>-0.002940</td>\n",
       "      <td>-0.002495</td>\n",
       "      <td>-0.002083</td>\n",
       "      <td>-0.001708</td>\n",
       "    </tr>\n",
       "    <tr>\n",
       "      <th>2</th>\n",
       "      <td>242</td>\n",
       "      <td>8874.552384</td>\n",
       "      <td>-81.333</td>\n",
       "      <td>35.142</td>\n",
       "      <td>0.002128</td>\n",
       "      <td>0.001515</td>\n",
       "      <td>0.000905</td>\n",
       "      <td>0.000318</td>\n",
       "      <td>-0.000232</td>\n",
       "      <td>-0.000734</td>\n",
       "      <td>...</td>\n",
       "      <td>-0.013640</td>\n",
       "      <td>-0.014851</td>\n",
       "      <td>-0.015597</td>\n",
       "      <td>-0.015856</td>\n",
       "      <td>-0.015635</td>\n",
       "      <td>-0.014969</td>\n",
       "      <td>-0.013917</td>\n",
       "      <td>-0.012557</td>\n",
       "      <td>-0.010980</td>\n",
       "      <td>0.000000</td>\n",
       "    </tr>\n",
       "    <tr>\n",
       "      <th>3</th>\n",
       "      <td>179</td>\n",
       "      <td>8874.591010</td>\n",
       "      <td>-122.740</td>\n",
       "      <td>44.523</td>\n",
       "      <td>0.001393</td>\n",
       "      <td>0.001376</td>\n",
       "      <td>0.001347</td>\n",
       "      <td>0.001307</td>\n",
       "      <td>0.001260</td>\n",
       "      <td>0.001208</td>\n",
       "      <td>...</td>\n",
       "      <td>-0.008156</td>\n",
       "      <td>-0.007508</td>\n",
       "      <td>-0.006837</td>\n",
       "      <td>-0.006157</td>\n",
       "      <td>-0.005481</td>\n",
       "      <td>-0.004820</td>\n",
       "      <td>-0.004186</td>\n",
       "      <td>-0.003588</td>\n",
       "      <td>-0.003030</td>\n",
       "      <td>-0.002516</td>\n",
       "    </tr>\n",
       "    <tr>\n",
       "      <th>4</th>\n",
       "      <td>137</td>\n",
       "      <td>8874.607710</td>\n",
       "      <td>-122.570</td>\n",
       "      <td>46.557</td>\n",
       "      <td>0.001143</td>\n",
       "      <td>0.001264</td>\n",
       "      <td>0.001374</td>\n",
       "      <td>0.001469</td>\n",
       "      <td>0.001549</td>\n",
       "      <td>0.001611</td>\n",
       "      <td>...</td>\n",
       "      <td>-0.000869</td>\n",
       "      <td>-0.000480</td>\n",
       "      <td>-0.000142</td>\n",
       "      <td>0.000132</td>\n",
       "      <td>0.000331</td>\n",
       "      <td>0.000452</td>\n",
       "      <td>0.000499</td>\n",
       "      <td>0.000482</td>\n",
       "      <td>0.000418</td>\n",
       "      <td>0.000000</td>\n",
       "    </tr>\n",
       "  </tbody>\n",
       "</table>\n",
       "<p>5 rows × 14405 columns</p>\n",
       "</div>"
      ],
      "text/plain": [
       "   index         dist  longitude  latitude         0         1         2  \\\n",
       "0    123  8874.083699   -122.770    47.179  0.006577  0.006650  0.006660   \n",
       "1    193  8874.431614   -123.850    44.106  0.002861  0.003157  0.003419   \n",
       "2    242  8874.552384    -81.333    35.142  0.002128  0.001515  0.000905   \n",
       "3    179  8874.591010   -122.740    44.523  0.001393  0.001376  0.001347   \n",
       "4    137  8874.607710   -122.570    46.557  0.001143  0.001264  0.001374   \n",
       "\n",
       "          3         4         5    ...        14391     14392     14393  \\\n",
       "0  0.006616  0.006528  0.006404    ...    -0.016533 -0.016002 -0.015280   \n",
       "1  0.003642  0.003827  0.003970    ...    -0.005995 -0.005475 -0.004947   \n",
       "2  0.000318 -0.000232 -0.000734    ...    -0.013640 -0.014851 -0.015597   \n",
       "3  0.001307  0.001260  0.001208    ...    -0.008156 -0.007508 -0.006837   \n",
       "4  0.001469  0.001549  0.001611    ...    -0.000869 -0.000480 -0.000142   \n",
       "\n",
       "      14394     14395     14396     14397     14398     14399     14400  \n",
       "0 -0.014373 -0.013294 -0.012066 -0.010723 -0.009306 -0.007864  0.000000  \n",
       "1 -0.004422 -0.003909 -0.003413 -0.002940 -0.002495 -0.002083 -0.001708  \n",
       "2 -0.015856 -0.015635 -0.014969 -0.013917 -0.012557 -0.010980  0.000000  \n",
       "3 -0.006157 -0.005481 -0.004820 -0.004186 -0.003588 -0.003030 -0.002516  \n",
       "4  0.000132  0.000331  0.000452  0.000499  0.000482  0.000418  0.000000  \n",
       "\n",
       "[5 rows x 14405 columns]"
      ]
     },
     "execution_count": 44,
     "metadata": {},
     "output_type": "execute_result"
    }
   ],
   "source": [
    "test2 = stations.T\n",
    "\n",
    "distOrder = pd.merge(distances, left_index=True, right_index=True, right=test2)\n",
    "\n",
    "new_df = pd.DataFrame(distOrder)\n",
    "new_df.reset_index(inplace = True)\n",
    "\n",
    "new_df.head()"
   ]
  },
  {
   "cell_type": "markdown",
   "metadata": {},
   "source": [
    "## Line Plot"
   ]
  },
  {
   "cell_type": "code",
   "execution_count": 45,
   "metadata": {},
   "outputs": [
    {
     "data": {
      "application/vnd.jupyter.widget-view+json": {
       "model_id": "e2c7d8b446a546a5afb9b5a4dae87335",
       "version_major": 2,
       "version_minor": 0
      },
      "text/html": [
       "<p>Failed to display Jupyter Widget of type <code>interactive</code>.</p>\n",
       "<p>\n",
       "  If you're reading this message in the Jupyter Notebook or JupyterLab Notebook, it may mean\n",
       "  that the widgets JavaScript is still loading. If this message persists, it\n",
       "  likely means that the widgets JavaScript library is either not installed or\n",
       "  not enabled. See the <a href=\"https://ipywidgets.readthedocs.io/en/stable/user_install.html\">Jupyter\n",
       "  Widgets Documentation</a> for setup instructions.\n",
       "</p>\n",
       "<p>\n",
       "  If you're reading this message in another frontend (for example, a static\n",
       "  rendering on GitHub or <a href=\"https://nbviewer.jupyter.org/\">NBViewer</a>),\n",
       "  it may mean that your frontend doesn't currently support widgets.\n",
       "</p>\n"
      ],
      "text/plain": [
       "interactive(children=(IntSlider(value=2000, description='time', max=14400), IntSlider(value=0, description='station', max=437), Output()), _dom_classes=('widget-interact',))"
      ]
     },
     "metadata": {},
     "output_type": "display_data"
    }
   ],
   "source": [
    "######################################\n",
    "#**** SEISMOGRAPH LINE PLOT ONLY ****#\n",
    "######################################\n",
    "@ipywidgets.interact(time = (0, 14400, 1), station = (0, 437, 1))\n",
    "def make_plot(time = 2000, station = 0):\n",
    "    i = 5\n",
    "    plt.subplot(211)\n",
    "    plt.plot(new_df.loc[station][4:i+time].values)\n",
    "    plt.xlim(0, 14000)\n",
    "    plt.ylim(-1.0, 1.0)"
   ]
  },
  {
   "cell_type": "markdown",
   "metadata": {},
   "source": [
    "## Spectrogram"
   ]
  },
  {
   "cell_type": "code",
   "execution_count": 46,
   "metadata": {
    "scrolled": true
   },
   "outputs": [
    {
     "data": {
      "application/vnd.jupyter.widget-view+json": {
       "model_id": "4b6b487669d04e428633e6ad7dd5b73f",
       "version_major": 2,
       "version_minor": 0
      },
      "text/html": [
       "<p>Failed to display Jupyter Widget of type <code>interactive</code>.</p>\n",
       "<p>\n",
       "  If you're reading this message in the Jupyter Notebook or JupyterLab Notebook, it may mean\n",
       "  that the widgets JavaScript is still loading. If this message persists, it\n",
       "  likely means that the widgets JavaScript library is either not installed or\n",
       "  not enabled. See the <a href=\"https://ipywidgets.readthedocs.io/en/stable/user_install.html\">Jupyter\n",
       "  Widgets Documentation</a> for setup instructions.\n",
       "</p>\n",
       "<p>\n",
       "  If you're reading this message in another frontend (for example, a static\n",
       "  rendering on GitHub or <a href=\"https://nbviewer.jupyter.org/\">NBViewer</a>),\n",
       "  it may mean that your frontend doesn't currently support widgets.\n",
       "</p>\n"
      ],
      "text/plain": [
       "interactive(children=(IntSlider(value=2000, description='time', max=14400), IntSlider(value=0, description='station', max=437), Output()), _dom_classes=('widget-interact',))"
      ]
     },
     "metadata": {},
     "output_type": "display_data"
    }
   ],
   "source": [
    "##############################################\n",
    "#**** SEISMOGRAPH READINGS NORMALIZED(?) ****#\n",
    "##############################################\n",
    "\n",
    "testt.fillna(0, inplace = True)\n",
    "@ipywidgets.interact(time = (0, 14400, 1), station = (0, 437, 1))\n",
    "def make_plot(time = 2000, station = 0):\n",
    "    i = 5\n",
    "    vals = array_vals\n",
    "    normalisedVals = ( vals - np.nanmin(vals) ) / ( np.nanmax(vals) - np.nanmin(vals) )\n",
    "    normalisedVals = normalisedVals.astype(np.float)\n",
    "\n",
    "    plt.hexbin(np.arange(14401), np.abs(new_df.loc[station][4:].values), bins = 'log')\n"
   ]
  },
  {
   "cell_type": "markdown",
   "metadata": {},
   "source": [
    "## Spectrogram (?) & Line Plot"
   ]
  },
  {
   "cell_type": "code",
   "execution_count": 47,
   "metadata": {},
   "outputs": [
    {
     "data": {
      "application/vnd.jupyter.widget-view+json": {
       "model_id": "3a0bae35fdc149e4a7b45a8760997e07",
       "version_major": 2,
       "version_minor": 0
      },
      "text/html": [
       "<p>Failed to display Jupyter Widget of type <code>interactive</code>.</p>\n",
       "<p>\n",
       "  If you're reading this message in the Jupyter Notebook or JupyterLab Notebook, it may mean\n",
       "  that the widgets JavaScript is still loading. If this message persists, it\n",
       "  likely means that the widgets JavaScript library is either not installed or\n",
       "  not enabled. See the <a href=\"https://ipywidgets.readthedocs.io/en/stable/user_install.html\">Jupyter\n",
       "  Widgets Documentation</a> for setup instructions.\n",
       "</p>\n",
       "<p>\n",
       "  If you're reading this message in another frontend (for example, a static\n",
       "  rendering on GitHub or <a href=\"https://nbviewer.jupyter.org/\">NBViewer</a>),\n",
       "  it may mean that your frontend doesn't currently support widgets.\n",
       "</p>\n"
      ],
      "text/plain": [
       "interactive(children=(IntSlider(value=2000, description='time', max=14400), IntSlider(value=0, description='station', max=437), Output()), _dom_classes=('widget-interact',))"
      ]
     },
     "metadata": {},
     "output_type": "display_data"
    }
   ],
   "source": [
    "################################\n",
    "#**** SEISMOGRAPH READINGS ****#\n",
    "################################\n",
    "\n",
    "@ipywidgets.interact(time = (0, 14400, 1), station = (0, 437, 1))\n",
    "def make_plot(time = 2000, station = 0):\n",
    "    i = 5\n",
    "    plt.subplot(211)\n",
    "    plt.plot(new_df.loc[station][4:i+time].values)\n",
    "    plt.xlim(0, 14000)\n",
    "    plt.ylim(-1.0, 1.0)\n",
    "    \n",
    "    vmin = array_vals.min().min() \n",
    "    vmax = array_vals.max().max()\n",
    "    \n",
    "    plt.subplot(212)\n",
    "    plt.hexbin(np.arange(14401), np.abs(new_df.loc[station][4:].values), bins = 'log')\n",
    "    plt.colorbar()"
   ]
  },
  {
   "cell_type": "markdown",
   "metadata": {},
   "source": [
    "## Stations Map\n"
   ]
  },
  {
   "cell_type": "code",
   "execution_count": 52,
   "metadata": {},
   "outputs": [
    {
     "data": {
      "image/png": "[encoded data removed]",
      "text/plain": [
       "<matplotlib.figure.Figure at 0x7f684fe157f0>"
      ]
     },
     "metadata": {},
     "output_type": "display_data"
    },
    {
     "data": {
      "application/vnd.jupyter.widget-view+json": {
       "model_id": "3e704280822e46e081130f2373e37a28",
       "version_major": 2,
       "version_minor": 0
      },
      "text/html": [
       "<p>Failed to display Jupyter Widget of type <code>interactive</code>.</p>\n",
       "<p>\n",
       "  If you're reading this message in the Jupyter Notebook or JupyterLab Notebook, it may mean\n",
       "  that the widgets JavaScript is still loading. If this message persists, it\n",
       "  likely means that the widgets JavaScript library is either not installed or\n",
       "  not enabled. See the <a href=\"https://ipywidgets.readthedocs.io/en/stable/user_install.html\">Jupyter\n",
       "  Widgets Documentation</a> for setup instructions.\n",
       "</p>\n",
       "<p>\n",
       "  If you're reading this message in another frontend (for example, a static\n",
       "  rendering on GitHub or <a href=\"https://nbviewer.jupyter.org/\">NBViewer</a>),\n",
       "  it may mean that your frontend doesn't currently support widgets.\n",
       "</p>\n"
      ],
      "text/plain": [
       "interactive(children=(IntSlider(value=0, description='station', max=437), Output()), _dom_classes=('widget-interact',))"
      ]
     },
     "metadata": {},
     "output_type": "display_data"
    }
   ],
   "source": [
    "##################################\n",
    "#******* STATION LOCATOR ********# \n",
    "##################################\n",
    "\n",
    "states = cartopy.io.shapereader.natural_earth(resolution='110m',\n",
    "                                              category='cultural',\n",
    "                                              name='admin_1_states_provinces_lakes_shp')\n",
    "reader = cartopy.io.shapereader.Reader(states)\n",
    "all_states = list(reader.records())\n",
    "all_states[0]\n",
    "geometries = [state.geometry for state in all_states]\n",
    "\n",
    "fig = plt.figure()\n",
    "ax1 = fig.add_subplot(111, projection = cartopy.crs.LambertConformal())\n",
    "ax1.set_extent([-125, -66.5, 20, 50], cartopy.crs.Geodetic())\n",
    "ax1.add_geometries(geometries, crs = cartopy.crs.PlateCarree(), facecolors = 'white', edgecolors = 'lightblue', zorder = 0)\n",
    "\n",
    "@ipywidgets.interact(station = (0, 437, 1))\n",
    "def plot_station(station = 0):\n",
    "    scat = ax1.scatter(new_df.loc[station]['longitude'], \n",
    "                new_df.loc[station]['latitude'], \n",
    "                transform = cartopy.crs.Geodetic(), \n",
    "                s = 5, \n",
    "                c = 'b',\n",
    "               zorder = 1)"
   ]
  },
  {
   "cell_type": "code",
   "execution_count": 53,
   "metadata": {
    "collapsed": true
   },
   "outputs": [],
   "source": [
    "states = cartopy.io.shapereader.natural_earth(resolution='110m',\n",
    "                                          category='cultural',\n",
    "                                          name='admin_1_states_provinces_lakes_shp')\n",
    "reader = cartopy.io.shapereader.Reader(states)\n",
    "all_states = list(reader.records())\n",
    "all_states[0]\n",
    "geometries = [state.geometry for state in all_states]"
   ]
  },
  {
   "cell_type": "markdown",
   "metadata": {},
   "source": [
    "## Component 1 Plots\n",
    "\n",
    "1. United States map showing the location of selected station\n",
    "2. Line plot visualizing the seismographic readings\n",
    "3. Spectrogram visualizing the intensity of the seismographic readings"
   ]
  },
  {
   "cell_type": "code",
   "execution_count": 67,
   "metadata": {},
   "outputs": [
    {
     "data": {
      "application/vnd.jupyter.widget-view+json": {
       "model_id": "a0481284d11542b48f60a0215d68625d",
       "version_major": 2,
       "version_minor": 0
      },
      "text/html": [
       "<p>Failed to display Jupyter Widget of type <code>interactive</code>.</p>\n",
       "<p>\n",
       "  If you're reading this message in the Jupyter Notebook or JupyterLab Notebook, it may mean\n",
       "  that the widgets JavaScript is still loading. If this message persists, it\n",
       "  likely means that the widgets JavaScript library is either not installed or\n",
       "  not enabled. See the <a href=\"https://ipywidgets.readthedocs.io/en/stable/user_install.html\">Jupyter\n",
       "  Widgets Documentation</a> for setup instructions.\n",
       "</p>\n",
       "<p>\n",
       "  If you're reading this message in another frontend (for example, a static\n",
       "  rendering on GitHub or <a href=\"https://nbviewer.jupyter.org/\">NBViewer</a>),\n",
       "  it may mean that your frontend doesn't currently support widgets.\n",
       "</p>\n"
      ],
      "text/plain": [
       "interactive(children=(IntSlider(value=0, description='time', max=14400), IntSlider(value=0, description='station', max=437), Output()), _dom_classes=('widget-interact',))"
      ]
     },
     "metadata": {},
     "output_type": "display_data"
    }
   ],
   "source": [
    "@ipywidgets.interact(station = (0, 437, 1), time = (0, 14400, 1))\n",
    "def make_plot(time = 0, station = 0):\n",
    "    \n",
    "    # Gridspec to arrange the plots\n",
    "    # 25 x 10 size\n",
    "    # gs[row, col]\n",
    "    gs = gridspec.GridSpec(25, 10)\n",
    "    fig = plt.gcf()\n",
    "    fig = plt.figure(figsize=(25, 10))\n",
    "    \n",
    "    # Set up three subplots\n",
    "    ax1 = fig.add_subplot(gs[:, :5], projection = cartopy.crs.LambertConformal())\n",
    "    ax2 = fig.add_subplot(gs[4:12, 6:])\n",
    "    ax3 = fig.add_subplot(gs[13:21, 6:])\n",
    "\n",
    "    # Scatter plot showing the station's location\n",
    "    ax1.set_extent([-125, -66.5, 20, 50], cartopy.crs.Geodetic())\n",
    "    ax1.add_geometries(geometries, crs = cartopy.crs.PlateCarree(), facecolors = 'lightblue', edgecolors = 'blue', zorder = 0)\n",
    "\n",
    "    ax1.scatter(new_df.loc[station]['longitude'], \n",
    "            new_df.loc[station]['latitude'], \n",
    "            transform = cartopy.crs.Geodetic(), \n",
    "            s = 35, \n",
    "            c = 'k',\n",
    "            zorder = 1)\n",
    "    \n",
    "    # Line plot for seismographic readings\n",
    "    i = 5\n",
    "    ax2.plot(new_df.loc[station][4:i+time].values)\n",
    "    ax2.set_xlim(0, 14000)\n",
    "    ax2.set_ylim(-1.0, 1.0)\n",
    "\n",
    "    # Spectrogram plot\n",
    "    spec = ax3.hexbin(np.arange(14401), np.abs(new_df.loc[station][4:].values), bins = 'log')\n",
    "    plt.colorbar(spec, ax=ax3)\n",
    "        \n",
    "    # Audio\n",
    "    normed = (array_vals[0] - array_vals[0].min())/(array_vals[0].max() - array_vals[0].min()) * 2 - 1\n",
    "    a = Audio(normed, rate=44100/8) # still trying to figure out how to add this "
   ]
  },
  {
   "cell_type": "markdown",
   "metadata": {},
   "source": [
    "## Audio Component"
   ]
  },
  {
   "cell_type": "code",
   "execution_count": 55,
   "metadata": {},
   "outputs": [],
   "source": [
    "normed = (array_vals[0] - array_vals[0].min())/(array_vals[0].max() - array_vals[0].min()) * 2 - 1\n",
    "a = Audio(normed, rate=44100/8)"
   ]
  }
 ],
 "metadata": {
  "kernelspec": {
   "display_name": "Python 3",
   "language": "python",
   "name": "python3"
  },
  "language_info": {
   "codemirror_mode": {
    "name": "ipython",
    "version": 3
   },
   "file_extension": ".py",
   "mimetype": "text/x-python",
   "name": "python",
   "nbconvert_exporter": "python",
   "pygments_lexer": "ipython3",
   "version": "3.6.3"
  }
 },
 "nbformat": 4,
 "nbformat_minor": 2
}
