{
 "cells": [
  {
   "cell_type": "code",
   "execution_count": 2,
   "metadata": {
    "collapsed": true
   },
   "outputs": [],
   "source": [
    "%matplotlib inline\n",
    "import pandas as pd\n",
    "import matplotlib.pyplot as plt\n",
    "import cartopy\n",
    "import us"
   ]
  },
  {
   "cell_type": "code",
   "execution_count": 3,
   "metadata": {},
   "outputs": [],
   "source": [
    "colnames = [\"date\", \"city\", \"state\", \"country\", \"shape\",\n",
    "          \"duration_seconds\", \"duration_reported\", \"description\",\n",
    "          \"report_date\", \"latitude\", \"longitude\"]\n",
    "ufo = pd.read_csv('/home/hbgrob/work/data-readonly/ufo-scrubbed-geocoded-time-standardized.csv', names = colnames, \n",
    "                  parse_dates=['date', 'report_date'])\n"
   ]
  },
  {
   "cell_type": "code",
   "execution_count": 6,
   "metadata": {},
   "outputs": [
    {
     "name": "stderr",
     "output_type": "stream",
     "text": [
      "/opt/conda/lib/python3.6/site-packages/ipykernel_launcher.py:6: SettingWithCopyWarning: \n",
      "A value is trying to be set on a copy of a slice from a DataFrame.\n",
      "Try using .loc[row_indexer,col_indexer] = value instead\n",
      "\n",
      "See the caveats in the documentation: http://pandas.pydata.org/pandas-docs/stable/indexing.html#indexing-view-versus-copy\n",
      "  \n"
     ]
    },
    {
     "data": {
      "text/html": [
       "<div>\n",
       "<style scoped>\n",
       "    .dataframe tbody tr th:only-of-type {\n",
       "        vertical-align: middle;\n",
       "    }\n",
       "\n",
       "    .dataframe tbody tr th {\n",
       "        vertical-align: top;\n",
       "    }\n",
       "\n",
       "    .dataframe thead th {\n",
       "        text-align: right;\n",
       "    }\n",
       "</style>\n",
       "<table border=\"1\" class=\"dataframe\">\n",
       "  <thead>\n",
       "    <tr style=\"text-align: right;\">\n",
       "      <th></th>\n",
       "      <th>date</th>\n",
       "      <th>city</th>\n",
       "      <th>state</th>\n",
       "      <th>country</th>\n",
       "      <th>shape</th>\n",
       "      <th>duration_seconds</th>\n",
       "      <th>duration_reported</th>\n",
       "      <th>description</th>\n",
       "      <th>report_date</th>\n",
       "      <th>latitude</th>\n",
       "      <th>longitude</th>\n",
       "    </tr>\n",
       "  </thead>\n",
       "  <tbody>\n",
       "    <tr>\n",
       "      <th>0</th>\n",
       "      <td>1949-10-10 20:30:00</td>\n",
       "      <td>san marcos</td>\n",
       "      <td>TX</td>\n",
       "      <td>us</td>\n",
       "      <td>cylinder</td>\n",
       "      <td>2700.0</td>\n",
       "      <td>45 minutes</td>\n",
       "      <td>This event took place in early fall around 194...</td>\n",
       "      <td>2004-04-27</td>\n",
       "      <td>29.883056</td>\n",
       "      <td>-97.941111</td>\n",
       "    </tr>\n",
       "    <tr>\n",
       "      <th>3</th>\n",
       "      <td>1956-10-10 21:00:00</td>\n",
       "      <td>edna</td>\n",
       "      <td>TX</td>\n",
       "      <td>us</td>\n",
       "      <td>circle</td>\n",
       "      <td>20.0</td>\n",
       "      <td>1/2 hour</td>\n",
       "      <td>My older brother and twin sister were leaving ...</td>\n",
       "      <td>2004-01-17</td>\n",
       "      <td>28.978333</td>\n",
       "      <td>-96.645833</td>\n",
       "    </tr>\n",
       "    <tr>\n",
       "      <th>4</th>\n",
       "      <td>1960-10-10 20:00:00</td>\n",
       "      <td>kaneohe</td>\n",
       "      <td>HI</td>\n",
       "      <td>us</td>\n",
       "      <td>light</td>\n",
       "      <td>900.0</td>\n",
       "      <td>15 minutes</td>\n",
       "      <td>AS a Marine 1st Lt. flying an FJ4B fighter/att...</td>\n",
       "      <td>2004-01-22</td>\n",
       "      <td>21.418056</td>\n",
       "      <td>-157.803611</td>\n",
       "    </tr>\n",
       "    <tr>\n",
       "      <th>5</th>\n",
       "      <td>1961-10-10 19:00:00</td>\n",
       "      <td>bristol</td>\n",
       "      <td>TN</td>\n",
       "      <td>us</td>\n",
       "      <td>sphere</td>\n",
       "      <td>300.0</td>\n",
       "      <td>5 minutes</td>\n",
       "      <td>My father is now 89 my brother 52 the girl wit...</td>\n",
       "      <td>2007-04-27</td>\n",
       "      <td>36.595000</td>\n",
       "      <td>-82.188889</td>\n",
       "    </tr>\n",
       "    <tr>\n",
       "      <th>7</th>\n",
       "      <td>1965-10-10 23:45:00</td>\n",
       "      <td>norwalk</td>\n",
       "      <td>CT</td>\n",
       "      <td>us</td>\n",
       "      <td>disk</td>\n",
       "      <td>1200.0</td>\n",
       "      <td>20 minutes</td>\n",
       "      <td>A bright orange color changing to reddish colo...</td>\n",
       "      <td>1999-10-02</td>\n",
       "      <td>41.117500</td>\n",
       "      <td>-73.408333</td>\n",
       "    </tr>\n",
       "  </tbody>\n",
       "</table>\n",
       "</div>"
      ],
      "text/plain": [
       "                 date        city state country     shape  duration_seconds  \\\n",
       "0 1949-10-10 20:30:00  san marcos    TX      us  cylinder            2700.0   \n",
       "3 1956-10-10 21:00:00        edna    TX      us    circle              20.0   \n",
       "4 1960-10-10 20:00:00     kaneohe    HI      us     light             900.0   \n",
       "5 1961-10-10 19:00:00     bristol    TN      us    sphere             300.0   \n",
       "7 1965-10-10 23:45:00     norwalk    CT      us      disk            1200.0   \n",
       "\n",
       "  duration_reported                                        description  \\\n",
       "0        45 minutes  This event took place in early fall around 194...   \n",
       "3          1/2 hour  My older brother and twin sister were leaving ...   \n",
       "4        15 minutes  AS a Marine 1st Lt. flying an FJ4B fighter/att...   \n",
       "5         5 minutes  My father is now 89 my brother 52 the girl wit...   \n",
       "7        20 minutes  A bright orange color changing to reddish colo...   \n",
       "\n",
       "  report_date   latitude   longitude  \n",
       "0  2004-04-27  29.883056  -97.941111  \n",
       "3  2004-01-17  28.978333  -96.645833  \n",
       "4  2004-01-22  21.418056 -157.803611  \n",
       "5  2007-04-27  36.595000  -82.188889  \n",
       "7  1999-10-02  41.117500  -73.408333  "
      ]
     },
     "execution_count": 6,
     "metadata": {},
     "output_type": "execute_result"
    }
   ],
   "source": [
    "'''this removes all the non-US cities from the dataset'''\n",
    "\n",
    "ufo['country'].map(lambda x: x == 'us')\n",
    "#some intense black magic here\n",
    "ufo_us = ufo[ufo['country'].map(lambda x: x == 'us')]\n",
    "ufo_us['state'] = ufo_us['state'].apply(lambda x: x.upper())\n",
    "ufo_us.head()\n"
   ]
  },
  {
   "cell_type": "code",
   "execution_count": 16,
   "metadata": {},
   "outputs": [
    {
     "name": "stderr",
     "output_type": "stream",
     "text": [
      "/opt/conda/lib/python3.6/site-packages/ipykernel_launcher.py:3: SettingWithCopyWarning: \n",
      "A value is trying to be set on a copy of a slice from a DataFrame.\n",
      "Try using .loc[row_indexer,col_indexer] = value instead\n",
      "\n",
      "See the caveats in the documentation: http://pandas.pydata.org/pandas-docs/stable/indexing.html#indexing-view-versus-copy\n",
      "  This is separate from the ipykernel package so we can avoid doing imports until\n"
     ]
    },
    {
     "data": {
      "text/plain": [
       "year\n",
       "1910       2\n",
       "1920       1\n",
       "1925       1\n",
       "1929       1\n",
       "1931       2\n",
       "1934       1\n",
       "1936       1\n",
       "1937       2\n",
       "1939       3\n",
       "1941       1\n",
       "1942       2\n",
       "1943       1\n",
       "1944       3\n",
       "1945       7\n",
       "1946       8\n",
       "1947      33\n",
       "1948       7\n",
       "1949      15\n",
       "1950      21\n",
       "1951      13\n",
       "1952      37\n",
       "1953      26\n",
       "1954      38\n",
       "1955      25\n",
       "1956      39\n",
       "1957      62\n",
       "1958      42\n",
       "1959      43\n",
       "1960      51\n",
       "1961      41\n",
       "        ... \n",
       "1985     171\n",
       "1986     153\n",
       "1987     176\n",
       "1988     188\n",
       "1989     200\n",
       "1990     191\n",
       "1991     180\n",
       "1992     183\n",
       "1993     228\n",
       "1994     324\n",
       "1995     915\n",
       "1996     646\n",
       "1997    1009\n",
       "1998    1404\n",
       "1999    2253\n",
       "2000    2184\n",
       "2001    2445\n",
       "2002    2439\n",
       "2003    2958\n",
       "2004    3244\n",
       "2005    3228\n",
       "2006    2884\n",
       "2007    3470\n",
       "2008    4017\n",
       "2009    3677\n",
       "2010    3548\n",
       "2011    4379\n",
       "2012    6320\n",
       "2013    6056\n",
       "2014    1964\n",
       "Name: state, Length: 83, dtype: int64"
      ]
     },
     "execution_count": 16,
     "metadata": {},
     "output_type": "execute_result"
    }
   ],
   "source": [
    "ufo_state_count=ufo_us.groupby('state')['city'].count()\n",
    "#add another column that pulls out year\n",
    "ufo_us['year'] = ufo_us['date'].apply(lambda x: x.year)\n",
    "#ufo_state_count.plot()\n",
    "#ufo_state_year.head()\n",
    "\n",
    "\n",
    "#groupby year by state\n",
    "\n",
    "#groupby year by state for total duration"
   ]
  },
  {
   "cell_type": "code",
   "execution_count": 5,
   "metadata": {},
   "outputs": [
    {
     "data": {
      "text/plain": [
       "<cartopy.mpl.feature_artist.FeatureArtist at 0x7f4be4579390>"
      ]
     },
     "execution_count": 5,
     "metadata": {},
     "output_type": "execute_result"
    },
    {
     "data": {
      "image/png": "[encoded data removed]",
      "text/plain": [
       "<matplotlib.figure.Figure at 0x7f4be4443eb8>"
      ]
     },
     "metadata": {},
     "output_type": "display_data"
    }
   ],
   "source": [
    "'''We may use this later, but I wanted to keep it in here. This is the graph that looks like the US:'''\n",
    "\n",
    "\n",
    "#From Class\n",
    "#Also a test to make sure I have an idea what I'm doing\n",
    "#coming back to this, I'm not sure if we need/want this\n",
    "states =cartopy.io.shapereader.natural_earth(resolution='110m', category='cultural',name='admin_1_states_provinces_lakes_shp')\n",
    "reader = cartopy.io.shapereader.Reader(states)\n",
    "all_states = list(reader.records())\n",
    "\n",
    "geometries = [state.geometry for state in all_states]\n",
    "fig = plt.figure()\n",
    "ax = fig.add_subplot(111,projection = cartopy.crs.LambertConformal())\n",
    "ax.set_extent([-125,-66.5,20,50], cartopy.crs.Geodetic())\n",
    "ax.add_geometries(geometries, crs=cartopy.crs.PlateCarree(), edgecolors='k')\n",
    "\n",
    "\n",
    "#tool tips, used in BQplot\n",
    "#state name, total sightings, avg alcohol, maybe total duration"
   ]
  },
  {
   "cell_type": "code",
   "execution_count": null,
   "metadata": {
    "collapsed": true
   },
   "outputs": [],
   "source": [
    "#redo map with alcohol normalization"
   ]
  },
  {
   "cell_type": "code",
   "execution_count": null,
   "metadata": {
    "collapsed": true
   },
   "outputs": [],
   "source": [
    "#line plot with alcohol consumption through year\n",
    "#try to make the title after the name of the state"
   ]
  }
 ],
 "metadata": {
  "kernelspec": {
   "display_name": "Python 3",
   "language": "python",
   "name": "python3"
  },
  "language_info": {
   "codemirror_mode": {
    "name": "ipython",
    "version": 3
   },
   "file_extension": ".py",
   "mimetype": "text/x-python",
   "name": "python",
   "nbconvert_exporter": "python",
   "pygments_lexer": "ipython3",
   "version": "3.6.3"
  }
 },
 "nbformat": 4,
 "nbformat_minor": 2
}
